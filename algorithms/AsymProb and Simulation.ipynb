{
 "cells": [
  {
   "cell_type": "code",
   "execution_count": 9,
   "id": "5fb24d1e-1649-4cd8-a246-c89e4af585f2",
   "metadata": {},
   "outputs": [
    {
     "data": {
      "text/plain": [
       "array([[0, 1, 0, 0, 0, 0],\n",
       "       [1, 0, 1, 0, 0, 0],\n",
       "       [0, 1, 0, 1, 1, 0],\n",
       "       [0, 0, 1, 0, 1, 0],\n",
       "       [0, 0, 1, 1, 0, 1],\n",
       "       [0, 0, 0, 0, 1, 0]])"
      ]
     },
     "execution_count": 9,
     "metadata": {},
     "output_type": "execute_result"
    }
   ],
   "source": [
    "import numpy as np\n",
    "import random\n",
    "from random import sample\n",
    "\n",
    "# Sample input adjacency graph\n",
    "arr = [[0,1,0,0,0,0], [1,0,1,0,0,0],[0,1,0,1,1,0],[0,0,1,0,1,0],[0,0,1,1,0,1],[0,0,0,0,1,0]]\n",
    "graph = np.array(arr)\n",
    "graph"
   ]
  },
  {
   "cell_type": "code",
   "execution_count": 10,
   "id": "70158f55-5522-4270-935a-caa88f9d6c2a",
   "metadata": {},
   "outputs": [
    {
     "data": {
      "text/plain": [
       "0.03456"
      ]
     },
     "execution_count": 10,
     "metadata": {},
     "output_type": "execute_result"
    }
   ],
   "source": [
    "# Function to return the probabilty of an actual infection sequence, not the observed one\n",
    "# Input is adjacency graph, observed sequence, actual infection sequence, and given probability p\n",
    "# Return p^(number not observed, i.e asymptomatic) times (1-p)^(number observed, i.e symptomatic)\n",
    "def asymptomatic_probability(graph, observed_seq, actualinfection_seq, p):\n",
    "    number_not_observed = len(actualinfection_seq) - len(observed_seq)\n",
    "    number_observed = len(observed_seq)\n",
    "    probability = p**(number_not_observed) * (1-p)**(number_observed)\n",
    "    return probability\n",
    "\n",
    "# Test with above graph and actual sequence [1,2,3,4,5] and observed sequence [2,4,5] and p = 0.4\n",
    "asymptomatic_probability(graph, [2,4,5], [1,2,3,4,5], 0.4)"
   ]
  },
  {
   "cell_type": "code",
   "execution_count": 11,
   "id": "2f08e916-8186-4a84-a216-ab37d70f209b",
   "metadata": {},
   "outputs": [
    {
     "name": "stdout",
     "output_type": "stream",
     "text": [
      "False\n",
      "True\n",
      "True\n",
      "True\n",
      "True\n",
      "False\n",
      "True\n",
      "False\n"
     ]
    }
   ],
   "source": [
    "# This cell is exclusively for helper functions for the asymptomatic sequence simulation\n",
    "\n",
    "# This helper function returns an array of a predicted asymptomatic sequence but remove all the asymptomatic\n",
    "# that is not observed nodes\n",
    "def helper_findSubList(predicit_asymptomatic_seq, not_observed):\n",
    "    copy_arr = predicit_asymptomatic_seq.copy()\n",
    "    for i in not_observed:\n",
    "        if i in copy_arr:\n",
    "            copy_arr.remove(i)\n",
    "    return copy_arr\n",
    "\n",
    "# This global variable is used to check whether the predicted asymptomatic sequence is legal\n",
    "valid = False\n",
    "\n",
    "# This helper function (along with the below) helps validate the predicted asymptomatic sequence\n",
    "def helper_validate_seq_1(graph, predicit_asymptomatic_seq):\n",
    "    # First set up the global varibale valid to be false, which if is legal then modify it using above helper\n",
    "    global valid\n",
    "    valid = False\n",
    "    # Feed index and validate into recursion\n",
    "    helper_validate_seq_2(graph, predicit_asymptomatic_seq, 1, False)\n",
    "    \n",
    "def helper_validate_seq_2(graph, predicit_asymptomatic_seq, index, validate):\n",
    "    validate_copy = validate\n",
    "    # Base case, if reach the end index node of the predicted asymptomatic sequence then modify global variable\n",
    "    # valid to be True and the sequence is legal\n",
    "    if index == len(predicit_asymptomatic_seq):\n",
    "        global valid \n",
    "        valid = True\n",
    "        return\n",
    "    # Itertae from the first index to the last index to see if there is a path\n",
    "    # If there is, the sequence is legal\n",
    "    for i in range(index):\n",
    "        if graph[predicit_asymptomatic_seq[i]][predicit_asymptomatic_seq[index]] == 1:\n",
    "            validate_copy = True\n",
    "    # If there is no path, then the sequence is illgeal\n",
    "    if validate_copy == False:\n",
    "        return\n",
    "    # Decrement index until index becomes 0 that is base case\n",
    "    index = index + 1\n",
    "    helper_validate_seq_2(graph, predicit_asymptomatic_seq, index, False)\n",
    "\n",
    "# Test some predicted asymptomatic sequences\n",
    "helper_validate_seq_1(graph, [1,2,3,5])\n",
    "print(valid)\n",
    "helper_validate_seq_1(graph, [1,2,4,5])\n",
    "print(valid)\n",
    "helper_validate_seq_1(graph, [1,0,2,3])\n",
    "print(valid)\n",
    "helper_validate_seq_1(graph, [1,0,2,4,3])\n",
    "print(valid)\n",
    "helper_validate_seq_1(graph, [1,0,2,4])\n",
    "print(valid)\n",
    "helper_validate_seq_1(graph, [1,0,2,3,5])\n",
    "print(valid)\n",
    "helper_validate_seq_1(graph, [1,0,2,3,4])\n",
    "print(valid)\n",
    "helper_validate_seq_1(graph, [1,0,2,5,4,3])\n",
    "print(valid)"
   ]
  },
  {
   "cell_type": "code",
   "execution_count": 12,
   "id": "674d3ef2-52e1-44ab-be04-ec62725b5722",
   "metadata": {},
   "outputs": [
    {
     "data": {
      "text/plain": [
       "[4, 5]"
      ]
     },
     "execution_count": 12,
     "metadata": {},
     "output_type": "execute_result"
    }
   ],
   "source": [
    "# Helper function to find possible added nodes to be concanteated with the origin sequence\n",
    "# Use recursion to find nodes that is connected to the started nodes,i.e there is a path\n",
    "# Return the possible added nodes\n",
    "def possible_added_nodes(graph, start_nodes_ls, rest_of_nodes, count, result):\n",
    "    # Base case, if we iterate through all the node then done\n",
    "    if count == len(rest_of_nodes):\n",
    "        return result\n",
    "    # Iterate through the start nodes with the rest of the nodes\n",
    "    # If there is path, i.e == 1, append them to the result\n",
    "    for i in start_nodes_ls:\n",
    "        for j in rest_of_nodes:\n",
    "            if graph[i][j] == 1 and j not in result:\n",
    "                result.append(j)\n",
    "                start_nodes_ls.append(j)\n",
    "    count = count + 1\n",
    "    return possible_added_nodes(graph, start_nodes_ls, rest_of_nodes, count, result)\n",
    "\n",
    "# Testing with start node = [3,2] and rest of nodes = [4,5]\n",
    "possible_added_nodes(graph, [3,2], [4, 5], 0, [])"
   ]
  },
  {
   "cell_type": "code",
   "execution_count": 13,
   "id": "eb107aa0-84b7-4e91-8da9-1c466ac865f6",
   "metadata": {},
   "outputs": [
    {
     "name": "stdout",
     "output_type": "stream",
     "text": [
      "[1, 0, 2, 4, 3]\n",
      "[1, 0, 2, 4, 3]\n",
      "[1, 0, 2, 4, 3]\n",
      "[1, 0, 2, 3, 4, 5]\n",
      "[1, 0, 2, 3, 4]\n"
     ]
    }
   ],
   "source": [
    "# Function to generate a predicted asymptomatic sequence\n",
    "# Input is graph and observed sequence array\n",
    "# Return a valid predicted asymptomatic sequence\n",
    "def asymptomatic_simulation(graph, orig_sequence, observed_set):\n",
    "    # Get all nodes in graph\n",
    "    all_nodes = [item for item in range(len(graph))]\n",
    "    # Get nodes that is part of observed set but not part of the origin sequence\n",
    "    sub_observed_set = list(set(observed_set) - set(orig_sequence))\n",
    "    # Get the rest of the nodes not part of origin seq or observed set\n",
    "    rest_of_nodes = list(set(all_nodes) - set(orig_sequence) - set(observed_set))\n",
    "    # Get the starting nodes which include the last element of the origin sequence \n",
    "    # and the subset of oberserved nodes\n",
    "    start_nodes_ls = orig_sequence + sub_observed_set\n",
    "    # Use helper methods to find possible nodes to be added to the origin sequence\n",
    "    added_nodes = possible_added_nodes(graph, start_nodes_ls, rest_of_nodes, 0, [])\n",
    "    # Keep generating random predicted sequence until a valid one is found\n",
    "    while True:\n",
    "        # Get a random limit of added nodes\n",
    "        random_limit = random.randint(1, len(added_nodes))\n",
    "        # Get the sample nodes based on the random limit\n",
    "        sample_added_node = sample(added_nodes,random_limit)\n",
    "        # Put together the added nodes with the sub observed node set\n",
    "        concantenate_nodes = sample_added_node + sub_observed_set\n",
    "        # Random suffle the sequence\n",
    "        random.shuffle(concantenate_nodes)\n",
    "        # Now put the origin suquence in front of the generated shuffled sequence\n",
    "        predicit_asymptomatic_seq = orig_sequence + concantenate_nodes\n",
    "        # Use helper method to validate the sequence\n",
    "        helper_validate_seq_1(graph, predicit_asymptomatic_seq)\n",
    "        if valid == True:\n",
    "            return predicit_asymptomatic_seq\n",
    "        \n",
    "# Test with above graph with sequence [1,0,2] and observed set = [1,2,3] \n",
    "print(asymptomatic_simulation(graph, [1,0,2], [1,2,3]))\n",
    "print(asymptomatic_simulation(graph, [1,0,2], [1,2,3]))\n",
    "print(asymptomatic_simulation(graph, [1,0,2], [1,2,3]))\n",
    "print(asymptomatic_simulation(graph, [1,0,2], [1,2,3]))\n",
    "print(asymptomatic_simulation(graph, [1,0,2], [1,2,3]))"
   ]
  },
  {
   "cell_type": "code",
   "execution_count": 14,
   "id": "d5f7cf42-6c6f-4bf5-a6cd-999bfac16a7f",
   "metadata": {},
   "outputs": [
    {
     "data": {
      "text/plain": [
       "array([[0, 1, 0, 0, 0, 0],\n",
       "       [1, 0, 1, 1, 0, 0],\n",
       "       [0, 1, 0, 1, 0, 0],\n",
       "       [0, 1, 1, 0, 1, 1],\n",
       "       [0, 0, 0, 1, 0, 0],\n",
       "       [0, 0, 0, 1, 0, 0]])"
      ]
     },
     "execution_count": 14,
     "metadata": {},
     "output_type": "execute_result"
    }
   ],
   "source": [
    "# Test with another graph\n",
    "arr = [[0,1,0,0,0,0], [1,0,1,1,0,0],[0,1,0,1,0,0],[0,1,1,0,1,1],[0,0,0,1,0,0],[0,0,0,1,0,0]]\n",
    "graph = np.array(arr)\n",
    "graph"
   ]
  },
  {
   "cell_type": "code",
   "execution_count": 15,
   "id": "51b5329c-49bb-4f1b-90a9-76c5ad448215",
   "metadata": {},
   "outputs": [
    {
     "name": "stdout",
     "output_type": "stream",
     "text": [
      "[1, 2, 0, 3, 5]\n",
      "[1, 2, 3, 0, 5, 4]\n",
      "[1, 2, 3, 5]\n",
      "[1, 2, 3, 4, 5]\n",
      "[1, 2, 3, 5]\n"
     ]
    }
   ],
   "source": [
    "# Test with above graph sequence [1,2] and observed set = [2,5]       \n",
    "print(asymptomatic_simulation(graph, [1,2], [2,5]))\n",
    "print(asymptomatic_simulation(graph, [1,2], [2,5]))\n",
    "print(asymptomatic_simulation(graph, [1,2], [2,5]))\n",
    "print(asymptomatic_simulation(graph, [1,2], [2,5]))\n",
    "print(asymptomatic_simulation(graph, [1,2], [2,5]))"
   ]
  },
  {
   "cell_type": "code",
   "execution_count": null,
   "id": "200e98ca-ad47-4aad-80ee-3afe0e15d99f",
   "metadata": {},
   "outputs": [],
   "source": []
  }
 ],
 "metadata": {
  "kernelspec": {
   "display_name": "Python 3",
   "language": "python",
   "name": "python3"
  },
  "language_info": {
   "codemirror_mode": {
    "name": "ipython",
    "version": 3
   },
   "file_extension": ".py",
   "mimetype": "text/x-python",
   "name": "python",
   "nbconvert_exporter": "python",
   "pygments_lexer": "ipython3",
   "version": "3.9.2"
  }
 },
 "nbformat": 4,
 "nbformat_minor": 5
}
