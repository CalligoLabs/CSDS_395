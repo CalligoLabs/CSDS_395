{
 "cells": [
  {
   "cell_type": "code",
   "execution_count": 15,
   "id": "6ed770c5-6601-477c-8ceb-57108545fb55",
   "metadata": {},
   "outputs": [
    {
     "data": {
      "text/plain": [
       "('80167329', 10.275889644142344)"
      ]
     },
     "execution_count": 15,
     "metadata": {},
     "output_type": "execute_result"
    }
   ],
   "source": [
    "raw_dict = {'61732809': 41, '67132980': 30, '67138290': 13, '67318290': 21, '67132890': 13, '61732890': 10, '16732890': 8, '16732980': 19, '16807329': 96, '18607329': 82, '18067329': 168, '80167329': 257, '81067329': 86, '61870329': 28, '61780329': 64, '16780329': 46, '16870329': 30, '18670329': 33, '81670329': 23, '61807329': 83, '73618029': 34, '73621980': 9, '76321980': 14, '73261980': 8, '81673290': 22, '61783290': 11, '67321890': 12, '76180329': 51, '73261809': 85, '67180329': 58, '76312809': 35, '73612809': 16, '73269180': 15, '16738029': 40, '61738029': 22, '67318029': 49, '76329180': 10, '73261890': 22, '73612890': 15, '73612980': 7, '76138290': 7, '76318290': 3, '76321890': 16, '18673209': 17, '76183029': 5, '76312890': 11, '73629180': 19, '67132809': 29, '76132809': 26, '61783209': 12, '16783209': 7, '76318029': 25, '67138209': 13, '76138209': 8, '81673209': 6, '61873209': 6, '16738209': 13, '73621809': 46, '76321809': 28, '81607329': 24, '67321809': 48, '67183209': 6, '76318209': 4, '61738209': 22, '67318209': 12, '61732980': 18, '76138029': 22, '73296180': 11, '73621890': 10, '73618290': 7, '73618209': 4, '67329180': 13, '67312890': 9, '61873290': 15, '67312980': 16, '67312809': 16, '61783029': 11, '18673029': 15, '67321980': 13, '67138029': 21, '16732809': 52, '76132980': 11, '76132890': 13, '61873029': 10, '81673029': 14, '16873029': 4, '16873209': 10, '16783029': 13, '18673290': 7, '67183029': 10, '76312980': 9, '67183290': 10, '61738290': 8, '92376180': 12, '16738290': 10, '76183209': 4, '16783290': 2, '76183290': 2}\n",
    "\n",
    "# Output the sequence with the highest probability\n",
    "def output(raw_dict):\n",
    "    count = 0\n",
    "    # Summation of all the value number\n",
    "    for key, value in raw_dict.items():\n",
    "        count = count + value\n",
    "    # Calculate the new value score by percentage\n",
    "    for k in raw_dict.keys():\n",
    "        raw_dict[k] = (raw_dict[k]/count)*100\n",
    "    # Sort the dictionary in ascending order\n",
    "    output_dict = dict(sorted(raw_dict.items(), key=lambda item: item[1]))\n",
    "    # Return the sequence and probability\n",
    "    return list(output_dict)[-1], output_dict[list(output_dict)[-1]]\n",
    "output(raw_dict)"
   ]
  },
  {
   "cell_type": "code",
   "execution_count": 40,
   "id": "771c4269-0e7d-40d6-b830-bf3f16c6771c",
   "metadata": {},
   "outputs": [
    {
     "data": {
      "text/plain": [
       "(5,\n",
       " array([[0, 1, 0, 0, 0],\n",
       "        [1, 0, 1, 1, 1],\n",
       "        [0, 1, 0, 1, 0],\n",
       "        [0, 1, 1, 0, 1],\n",
       "        [0, 1, 0, 1, 0]]))"
      ]
     },
     "execution_count": 40,
     "metadata": {},
     "output_type": "execute_result"
    }
   ],
   "source": [
    "import numpy as np\n",
    "\n",
    "# Take in a text file that describe the graph and output N nodes and np adjacency matrix\n",
    "def input(text):\n",
    "    # Count N nodes\n",
    "    with open(text, \"r\") as a_file:\n",
    "        N = 0\n",
    "        for line in a_file:\n",
    "            N = N + 1 \n",
    "    # Produce adjacency matrix\n",
    "    with open(text, \"r\") as a_file:\n",
    "        arr = []\n",
    "        for line in a_file:\n",
    "            stripped_line = line.strip()\n",
    "            stripped_line = stripped_line[2:].replace(\" \", \"\")\n",
    "            arr_row = []\n",
    "            file_row = []\n",
    "            for i in stripped_line:\n",
    "                file_row.append(int(i))\n",
    "            for i in range(0,N):\n",
    "                if i in file_row:\n",
    "                    arr_row.append(1)\n",
    "                else:\n",
    "                    arr_row.append(0)\n",
    "            arr.append(arr_row)\n",
    "        graph = np.array(arr)\n",
    "    return N, graph\n",
    "\n",
    "input(\"Sample_Input.txt\")"
   ]
  },
  {
   "cell_type": "code",
   "execution_count": null,
   "id": "a086d3b4-cc1c-432e-8f13-b614e98c910a",
   "metadata": {},
   "outputs": [],
   "source": []
  }
 ],
 "metadata": {
  "kernelspec": {
   "display_name": "Python 3",
   "language": "python",
   "name": "python3"
  },
  "language_info": {
   "codemirror_mode": {
    "name": "ipython",
    "version": 3
   },
   "file_extension": ".py",
   "mimetype": "text/x-python",
   "name": "python",
   "nbconvert_exporter": "python",
   "pygments_lexer": "ipython3",
   "version": "3.9.2"
  }
 },
 "nbformat": 4,
 "nbformat_minor": 5
}
