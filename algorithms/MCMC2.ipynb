{
 "cells": [
  {
   "cell_type": "code",
   "execution_count": 1,
   "id": "d5dfd70a-5ce5-4819-9d4b-ff440c42f59f",
   "metadata": {},
   "outputs": [
    {
     "data": {
      "text/plain": [
       "array([[0, 1, 0, 0, 0, 0],\n",
       "       [1, 0, 1, 1, 1, 1],\n",
       "       [0, 1, 0, 1, 0, 0],\n",
       "       [0, 1, 1, 0, 1, 0],\n",
       "       [0, 1, 0, 1, 0, 0],\n",
       "       [0, 1, 0, 0, 0, 0]])"
      ]
     },
     "execution_count": 1,
     "metadata": {},
     "output_type": "execute_result"
    }
   ],
   "source": [
    "import numpy as np\n",
    "\n",
    "# Sample input adjacency graph\n",
    "arr = [[0,1,0,0,0,0], [1,0,1,1,1,1],[0,1,0,1,0,0],[0,1,1,0,1,0],[0,1,0,1,0,0],[0,1,0,0,0,0]]\n",
    "graph = np.array(arr)\n",
    "graph"
   ]
  },
  {
   "cell_type": "code",
   "execution_count": 2,
   "id": "8b53cd34-b7fa-4e37-8c1f-cafdb6a93e82",
   "metadata": {},
   "outputs": [
    {
     "name": "stdout",
     "output_type": "stream",
     "text": [
      "1\n",
      "1\n",
      "2\n",
      "2\n"
     ]
    }
   ],
   "source": [
    "# Sample infected sequence\n",
    "sequence = [0,1,2,3,4]\n",
    "\n",
    "# Function to generate nominator in likelihodd function\n",
    "# i.e. count how many edges of already transvered nodes are adjacent to the next node in sequence\n",
    "# e.g. Already travel node 0, 1, 2, now count how many edges from them to node 3\n",
    "# input: 1D boolean array, true for already transversed, 2D graph, and 1D sequence \n",
    "# return possible nominator edges\n",
    "def generateNominator(sequence, graph, boolean_arr):\n",
    "    # Get the yet to be transvered node in the sequence\n",
    "    next_node = sequence[np.count_nonzero(boolean_arr)]\n",
    "    # Get all the node index that has been transvered, i.e True\n",
    "    transvered_node_indices = [x for x in sequence if boolean_arr[sequence.index(x)] == True]\n",
    "    # Start counting the possible edge\n",
    "    count = 0\n",
    "    # Iterate the transversed node\n",
    "    for i in transvered_node_indices:\n",
    "        # Count the number (0 or 1) at the graph index where transvered node meet the next tranvsered node\n",
    "        #count = count + graph[i][sequence.index(next_node)]\n",
    "        count = count + graph[i][next_node]\n",
    "    return count\n",
    "\n",
    "\n",
    "# Test each case\n",
    "test_1 = np.array([True, False, False, False, False])\n",
    "test_2 = np.array([True, True, False, False, False])\n",
    "test_3 = np.array([True, True, True, False, False])\n",
    "test_4 = np.array([True, True, True, True, False])\n",
    "test_set1 = [test_1,test_2,test_3,test_4]\n",
    "for test in test_set1:\n",
    "    print(generateNominator(sequence, graph, test))"
   ]
  },
  {
   "cell_type": "code",
   "execution_count": 3,
   "id": "baa19a34-bb76-48b3-97c9-98f90ddf2a80",
   "metadata": {},
   "outputs": [
    {
     "name": "stdout",
     "output_type": "stream",
     "text": [
      "1\n",
      "4\n",
      "4\n",
      "3\n"
     ]
    }
   ],
   "source": [
    "# Function to generate denominator in likelihodd function\n",
    "# count the number of possible path from transvered node to other nodes except the already transvered one\n",
    "# e.g. count the possible path from node 1 to node 2,3,4 and 5 given node 0 is already transvered\n",
    "# return possible denominator paths\n",
    "def generateDenominator(sequence, graph, boolean_arr):\n",
    "    # Get the node in the sequence that will has its path counted\n",
    "    curr_node = sequence[np.count_nonzero(boolean_arr) - 1]\n",
    "    # Start counting the possible path\n",
    "    count = 0\n",
    "    # Get all the node index that has  been transvered, i.e True\n",
    "    transvered_node_indices = [x for x in sequence if boolean_arr[sequence.index(x)] == True]\n",
    "    # Iterate through the tranversed indices\n",
    "    for i in transvered_node_indices:\n",
    "        # Iterate through the row of the current node\n",
    "        for j in range(len(graph)):\n",
    "            # Dont include the already transvered node\n",
    "            if j not in transvered_node_indices:\n",
    "                count = count + graph[i][j]\n",
    "    return count\n",
    "\n",
    "# Test each case\n",
    "test_1 = np.array([True, False, False, False, False])\n",
    "test_2 = np.array([True, True, False, False, False])\n",
    "test_3 = np.array([True, True, True, False, False])\n",
    "test_4 = np.array([True, True, True, True, False])\n",
    "test_set1 = [test_1,test_2,test_3,test_4]\n",
    "for test in test_set1:\n",
    "    print(generateDenominator(sequence, graph, test))"
   ]
  },
  {
   "cell_type": "code",
   "execution_count": 4,
   "id": "b0a49061-1a58-4189-8b3d-b21507555903",
   "metadata": {},
   "outputs": [
    {
     "data": {
      "text/plain": [
       "0.08333333333333333"
      ]
     },
     "execution_count": 4,
     "metadata": {},
     "output_type": "execute_result"
    }
   ],
   "source": [
    "# Function to generate likelihood probability\n",
    "# take input of 2D graph and 1D sequence, and use helper method above\n",
    "# return likelihood probability of the sequence\n",
    "def likelihood_function(graph, sequence):\n",
    "    # Create boolean array like above\n",
    "    #boolean_arr = np.array([False, False, False, False, False])\n",
    "    boolean_arr = np.zeros(len(sequence), dtype=bool)\n",
    "    # Initilize likelihood\n",
    "    likelihood_prob = 1\n",
    "    # Generate nominators and denomniators\n",
    "    for i in range(len(sequence)-1):\n",
    "        boolean_arr[i] = True\n",
    "        nominator = generateNominator(sequence, graph, boolean_arr)\n",
    "        denominator = generateDenominator(sequence, graph, boolean_arr)\n",
    "        # Put together the formula\n",
    "        likelihood_prob = likelihood_prob * nominator/denominator\n",
    "    return likelihood_prob\n",
    "\n",
    "# Testing\n",
    "likelihood_function(graph,sequence)"
   ]
  },
  {
   "cell_type": "code",
   "execution_count": 5,
   "id": "db551f4d-e754-48f9-9143-5b9aece20edc",
   "metadata": {},
   "outputs": [
    {
     "data": {
      "text/plain": [
       "0.2222222222222222"
      ]
     },
     "execution_count": 5,
     "metadata": {},
     "output_type": "execute_result"
    }
   ],
   "source": [
    "# Testing another previous graph\n",
    "arr = [[0,1,0,0,0], [1,0,1,1,1],[0,1,0,1,0],[0,1,1,0,1],[0,1,0,1,0]]\n",
    "sequence = [0,1,2,3,4]\n",
    "graph = np.array(arr)\n",
    "likelihood_function(graph, sequence)"
   ]
  },
  {
   "cell_type": "code",
   "execution_count": 6,
   "id": "ec69390b-7191-4857-8ff8-b314868bd87d",
   "metadata": {},
   "outputs": [
    {
     "data": {
      "text/plain": [
       "0.2"
      ]
     },
     "execution_count": 6,
     "metadata": {},
     "output_type": "execute_result"
    }
   ],
   "source": [
    "# Prior Function - Uniform Distribution over number of infected nodes\n",
    "def prior(node, sequence):\n",
    "    return 1/len(sequence)\n",
    "\n",
    "prior(1, sequence)"
   ]
  },
  {
   "cell_type": "code",
   "execution_count": 7,
   "id": "790e37f7-5fd1-4f68-98cc-132b9f723d8b",
   "metadata": {},
   "outputs": [
    {
     "data": {
      "text/plain": [
       "0.003472222222222222"
      ]
     },
     "execution_count": 7,
     "metadata": {},
     "output_type": "execute_result"
    }
   ],
   "source": [
    "# Testing Danny graph\n",
    "arr = [[0.0, 0.0, 0.0, 0.0, 0.0, 0.0, 0.0, 0.0, 1.0, 0.0], [0.0, 0.0, 0.0, 0.0, 0.0, 0.0, 1.0, 0.0, 1.0, 0.0], [0.0, 0.0, 0.0, 1.0, 0.0, 0.0, 0.0, 0.0, 0.0, 1.0], [0.0, 0.0, 1.0, 0.0, 0.0, 0.0, 0.0, 1.0, 0.0, 0.0], [0.0, 0.0, 0.0, 0.0, 0.0, 1.0, 0.0, 0.0, 1.0, 1.0], [0.0, 0.0, 0.0, 0.0, 1.0, 0.0, 0.0, 0.0, 0.0, 1.0], [0.0, 1.0, 0.0, 0.0, 0.0, 0.0, 0.0, 1.0, 0.0, 0.0], [0.0, 0.0, 0.0, 1.0, 0.0, 0.0, 1.0, 0.0, 0.0, 0.0], [1.0, 1.0, 0.0, 0.0, 1.0, 0.0, 0.0, 0.0, 0.0, 0.0], [0.0, 0.0, 1.0, 0.0, 1.0, 1.0, 0.0, 0.0, 0.0, 0.0]]\n",
    "sequence = [1, 6, 8, 0, 7, 4, 9, 5]\n",
    "graph = np.array(arr)\n",
    "likelihood_function(graph, sequence)"
   ]
  },
  {
   "cell_type": "code",
   "execution_count": 8,
   "id": "af40f67b-00f6-4bd5-8a32-97eeec766789",
   "metadata": {},
   "outputs": [
    {
     "name": "stdout",
     "output_type": "stream",
     "text": [
      "1 2\n",
      "1 2\n",
      "1 3\n",
      "1 2\n",
      "1 2\n",
      "1 3\n",
      "2 4\n"
     ]
    }
   ],
   "source": [
    "# Using the same above graph, print out the nomiantor and denominator for checking\n",
    "\n",
    "arr = [[0, 0, 0, 0, 0, 0, 0, 0, 1, 0], [0, 0, 0, 0, 0, 0, 1, 0, 1, 0], [0, 0, 0, 1, 0, 0, 0, 0, 0, 1], [0, 0, 1, 0, 0, 0, 0, 1, 0, 0], [0, 0, 0, 0, 0, 1, 0, 0, 1, 1], [0, 0, 0, 0, 1, 0, 0, 0, 0, 1], [0, 1, 0, 0, 0, 0, 0, 1, 0, 0], [0, 0, 0, 1, 0, 0, 1, 0, 0, 0], [1, 1, 0, 0, 1, 0, 0, 0, 0, 0], [0, 0, 1, 0, 1, 1, 0, 0, 0, 0]]\n",
    "sequence = [1, 6, 8, 0, 7, 4, 9, 5]\n",
    "graph = np.array(arr)\n",
    "\n",
    "# Test each case\n",
    "test_1 = np.array([True, False, False, False, False, False, False, False])\n",
    "test_2 = np.array([True, True, False, False, False, False, False, False])\n",
    "test_3 = np.array([True, True, True, False, False, False, False, False])\n",
    "test_4 = np.array([True, True, True, True, False, False, False, False])\n",
    "test_5 = np.array([True, True, True, True, True, False, False, False])\n",
    "test_6 = np.array([True, True, True, True, True, True, False, False])\n",
    "test_7 = np.array([True, True, True, True, True, True, True, False])\n",
    "test_set1 = [test_1,test_2,test_3,test_4,test_5,test_6,test_7]\n",
    "for test in test_set1:\n",
    "    print(generateNominator(sequence, graph, test), generateDenominator(sequence, graph, test))"
   ]
  },
  {
   "cell_type": "code",
   "execution_count": 9,
   "id": "d8ce54d5-5038-4b46-9239-847464bc9a53",
   "metadata": {},
   "outputs": [
    {
     "data": {
      "text/plain": [
       "9.105477855477857e-08"
      ]
     },
     "execution_count": 9,
     "metadata": {},
     "output_type": "execute_result"
    }
   ],
   "source": [
    "# Testing another Danny graph\n",
    "arr = [[0.0, 0.0, 0.0, 0.0, 0.0, 0.0, 0.0, 0.0, 1.0, 0.0, 0.0, 0.0, 0.0, 0.0, 1.0, 0.0, 1.0, 0.0, 1.0, 0.0], [0.0, 0.0, 0.0, 0.0, 0.0, 0.0, 1.0, 0.0, 0.0, 0.0, 1.0, 0.0, 0.0, 1.0, 0.0, 0.0, 1.0, 1.0, 0.0, 0.0], [0.0, 0.0, 0.0, 0.0, 1.0, 1.0, 0.0, 0.0, 0.0, 0.0, 0.0, 0.0, 0.0, 0.0, 0.0, 0.0, 0.0, 1.0, 0.0, 0.0], [0.0, 0.0, 0.0, 0.0, 0.0, 0.0, 0.0, 0.0, 0.0, 0.0, 0.0, 0.0, 0.0, 0.0, 0.0, 0.0, 1.0, 0.0, 0.0, 0.0], [0.0, 0.0, 1.0, 0.0, 0.0, 0.0, 0.0, 0.0, 1.0, 0.0, 0.0, 0.0, 0.0, 0.0, 0.0, 0.0, 0.0, 0.0, 0.0, 0.0], [0.0, 0.0, 1.0, 0.0, 0.0, 0.0, 1.0, 0.0, 0.0, 0.0, 0.0, 0.0, 1.0, 0.0, 0.0, 0.0, 0.0, 0.0, 0.0, 1.0], [0.0, 1.0, 0.0, 0.0, 0.0, 1.0, 0.0, 1.0, 0.0, 1.0, 0.0, 0.0, 0.0, 0.0, 0.0, 0.0, 0.0, 0.0, 0.0, 0.0], [0.0, 0.0, 0.0, 0.0, 0.0, 0.0, 1.0, 0.0, 0.0, 0.0, 0.0, 0.0, 0.0, 0.0, 1.0, 0.0, 0.0, 1.0, 1.0, 0.0], [1.0, 0.0, 0.0, 0.0, 1.0, 0.0, 0.0, 0.0, 0.0, 1.0, 0.0, 0.0, 0.0, 1.0, 0.0, 0.0, 0.0, 0.0, 0.0, 0.0], [0.0, 0.0, 0.0, 0.0, 0.0, 0.0, 1.0, 0.0, 1.0, 0.0, 1.0, 0.0, 1.0, 1.0, 0.0, 0.0, 0.0, 0.0, 1.0, 0.0], [0.0, 1.0, 0.0, 0.0, 0.0, 0.0, 0.0, 0.0, 0.0, 1.0, 0.0, 0.0, 0.0, 1.0, 1.0, 0.0, 0.0, 1.0, 0.0, 0.0], [0.0, 0.0, 0.0, 0.0, 0.0, 0.0, 0.0, 0.0, 0.0, 0.0, 0.0, 0.0, 0.0, 1.0, 0.0, 0.0, 0.0, 0.0, 0.0, 1.0], [0.0, 0.0, 0.0, 0.0, 0.0, 1.0, 0.0, 0.0, 0.0, 1.0, 0.0, 0.0, 0.0, 0.0, 0.0, 0.0, 1.0, 0.0, 0.0, 0.0], [0.0, 1.0, 0.0, 0.0, 0.0, 0.0, 0.0, 0.0, 1.0, 1.0, 1.0, 1.0, 0.0, 0.0, 0.0, 1.0, 1.0, 0.0, 0.0, 1.0], [1.0, 0.0, 0.0, 0.0, 0.0, 0.0, 0.0, 1.0, 0.0, 0.0, 1.0, 0.0, 0.0, 0.0, 0.0, 0.0, 0.0, 0.0, 1.0, 1.0], [0.0, 0.0, 0.0, 0.0, 0.0, 0.0, 0.0, 0.0, 0.0, 0.0, 0.0, 0.0, 0.0, 1.0, 0.0, 0.0, 0.0, 0.0, 0.0, 1.0], [1.0, 1.0, 0.0, 1.0, 0.0, 0.0, 0.0, 0.0, 0.0, 0.0, 0.0, 0.0, 1.0, 1.0, 0.0, 0.0, 0.0, 0.0, 0.0, 0.0], [0.0, 1.0, 1.0, 0.0, 0.0, 0.0, 0.0, 1.0, 0.0, 0.0, 1.0, 0.0, 0.0, 0.0, 0.0, 0.0, 0.0, 0.0, 0.0, 0.0], [1.0, 0.0, 0.0, 0.0, 0.0, 0.0, 0.0, 1.0, 0.0, 1.0, 0.0, 0.0, 0.0, 0.0, 1.0, 0.0, 0.0, 0.0, 0.0, 0.0], [0.0, 0.0, 0.0, 0.0, 0.0, 1.0, 0.0, 0.0, 0.0, 0.0, 0.0, 1.0, 0.0, 1.0, 1.0, 1.0, 0.0, 0.0, 0.0, 0.0]]\n",
    "sequence = [1, 13, 17, 8, 16, 15, 0, 12]\n",
    "graph = np.array(arr)\n",
    "likelihood_function(graph, sequence)"
   ]
  },
  {
   "cell_type": "code",
   "execution_count": null,
   "id": "03c69aef-3846-41a7-b1da-0da92b034835",
   "metadata": {},
   "outputs": [],
   "source": []
  }
 ],
 "metadata": {
  "kernelspec": {
   "display_name": "Python 3",
   "language": "python",
   "name": "python3"
  },
  "language_info": {
   "codemirror_mode": {
    "name": "ipython",
    "version": 3
   },
   "file_extension": ".py",
   "mimetype": "text/x-python",
   "name": "python",
   "nbconvert_exporter": "python",
   "pygments_lexer": "ipython3",
   "version": "3.9.2"
  }
 },
 "nbformat": 4,
 "nbformat_minor": 5
}
